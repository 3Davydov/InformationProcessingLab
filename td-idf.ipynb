{
 "cells": [
  {
   "cell_type": "markdown",
   "metadata": {},
   "source": [
    "Загружаем документы"
   ]
  },
  {
   "cell_type": "code",
   "execution_count": 1,
   "metadata": {},
   "outputs": [
    {
     "name": "stdout",
     "output_type": "stream",
     "text": [
      "['Машинное обучение - это интересная область и очень полезное дело', 'Область NLP также связана с машинным обучением.', 'Обучение с учителем - ключевой аспект машинного обучения.']\n"
     ]
    }
   ],
   "source": [
    "import texts_loader\n",
    "from sklearn.feature_extraction.text import TfidfVectorizer\n",
    "import pandas as pd\n",
    "\n",
    "pd.set_option('display.max_columns', None)  # Отображение всех столбцов\n",
    "pd.set_option('display.expand_frame_repr', False)  # Отображение всей таблицы без переноса строк\n",
    "\n",
    "documents = texts_loader.get_texts_from_file()\n",
    "print(documents)"
   ]
  },
  {
   "cell_type": "markdown",
   "metadata": {},
   "source": [
    "Удаляем стоп-слова (предлоги, знаки препинания)"
   ]
  },
  {
   "cell_type": "code",
   "execution_count": 2,
   "metadata": {},
   "outputs": [
    {
     "name": "stdout",
     "output_type": "stream",
     "text": [
      "['машинное обучение это интересная область очень полезное дело', 'область nlp также связана машинным обучением', 'обучение учителем ключевой аспект машинного обучения']\n"
     ]
    },
    {
     "name": "stderr",
     "output_type": "stream",
     "text": [
      "[nltk_data] Downloading package stopwords to\n",
      "[nltk_data]     /home/danissimo/nltk_data...\n",
      "[nltk_data]   Package stopwords is already up-to-date!\n",
      "[nltk_data] Downloading package punkt to /home/danissimo/nltk_data...\n",
      "[nltk_data]   Package punkt is already up-to-date!\n"
     ]
    }
   ],
   "source": [
    "import nltk\n",
    "from nltk.corpus import stopwords\n",
    "from nltk.tokenize import word_tokenize\n",
    "import string\n",
    "\n",
    "# Загрузка стоп-слов и пунктуации\n",
    "nltk.download('stopwords')\n",
    "nltk.download('punkt')\n",
    "stop_words = set(stopwords.words('russian'))\n",
    "punctuation = set(string.punctuation)\n",
    "\n",
    "def preprocess_text(text):\n",
    "    words = word_tokenize(text.lower())  # Привести к нижнему регистру и токенизировать\n",
    "    filtered_words = [word for word in words if word not in stop_words and word not in punctuation]\n",
    "    return \" \".join(filtered_words)\n",
    "\n",
    "preprocessed_documents = [ preprocess_text(doc) for doc in documents ]\n",
    "print(preprocessed_documents)"
   ]
  },
  {
   "cell_type": "markdown",
   "metadata": {},
   "source": [
    "Выполняем лемматизацию текста"
   ]
  },
  {
   "cell_type": "code",
   "execution_count": 3,
   "metadata": {},
   "outputs": [
    {
     "name": "stdout",
     "output_type": "stream",
     "text": [
      "['машинный обучение это интересный область очень полезный дело', 'область nlp также связать машинный обучение', 'обучение учитель ключевой аспект машинный обучение']\n"
     ]
    }
   ],
   "source": [
    "import spacy\n",
    "\n",
    "# Загрузка языковой модели spaCy\n",
    "nlp = spacy.load(\"ru_core_news_sm\")\n",
    "\n",
    "def preprocess_and_lemmatize(text):\n",
    "    doc = nlp(text.lower())  # Привести к нижнему регистру и лемматизировать\n",
    "    lemmatized_words = [token.lemma_ for token in doc if token.text not in punctuation and token.text not in stop_words]\n",
    "    return \" \".join(lemmatized_words)\n",
    "\n",
    "preprocessed_documents = [ preprocess_and_lemmatize(doc) for doc in preprocessed_documents ]\n",
    "print(preprocessed_documents)"
   ]
  },
  {
   "cell_type": "markdown",
   "metadata": {},
   "source": [
    "Создаем TF-IDF матрицу"
   ]
  },
  {
   "cell_type": "code",
   "execution_count": 4,
   "metadata": {},
   "outputs": [
    {
     "name": "stdout",
     "output_type": "stream",
     "text": [
      "                 nlp    аспект      дело  интересный  ключевой  машинный   область  обучение     очень  полезный   связать     также   учитель       это\n",
      "Документ 1  0.000000  0.000000  0.399169    0.399169  0.000000  0.235756  0.303578  0.235756  0.399169  0.399169  0.000000  0.000000  0.000000  0.399169\n",
      "Документ 2  0.483591  0.000000  0.000000    0.000000  0.000000  0.285617  0.367784  0.285617  0.000000  0.000000  0.483591  0.483591  0.000000  0.000000\n",
      "Документ 3  0.000000  0.459115  0.000000    0.000000  0.459115  0.271161  0.000000  0.542321  0.000000  0.000000  0.000000  0.000000  0.459115  0.000000\n"
     ]
    }
   ],
   "source": [
    "from sklearn.preprocessing import normalize\n",
    "\n",
    "# Создание объекта TfidfVectorizer\n",
    "tfidf_vectorizer = TfidfVectorizer()\n",
    "\n",
    "# Применение TF-IDF к текстовым данным\n",
    "tfidf_matrix = tfidf_vectorizer.fit_transform(preprocessed_documents)\n",
    "# Нормализация матрицы TF-IDF по длине документа\n",
    "tfidf_matrix = normalize(tfidf_matrix, norm='l2', axis=1)\n",
    "\n",
    "# Получение списка слов и названий документов\n",
    "words = tfidf_vectorizer.get_feature_names_out()\n",
    "doc_names = ['Документ {}'.format(i+1) for i in range(len(preprocessed_documents))]\n",
    "\n",
    "# Создание DataFrame для вывода на экран\n",
    "tfidf_df = pd.DataFrame(tfidf_matrix.toarray(), columns=words, index=doc_names)\n",
    "\n",
    "# Вывод матрицы TF-IDF на экран\n",
    "print(tfidf_df)"
   ]
  },
  {
   "cell_type": "code",
   "execution_count": 5,
   "metadata": {},
   "outputs": [
    {
     "name": "stdout",
     "output_type": "stream",
     "text": [
      "Исходный текст : Машинное обучение - это интересная область и очень полезное дело\n",
      "Ключевые слова: ['это', 'полезный', 'очень', 'интересный', 'дело', 'область']\n"
     ]
    }
   ],
   "source": [
    "tfidf_scores = tfidf_matrix.toarray()[0]\n",
    "\n",
    "# Сортировка слов по значениям TF-IDF\n",
    "threshold = 0.3\n",
    "sorted_keywords = [word for score, word in sorted(zip(tfidf_scores, words), reverse=True) if score > threshold]\n",
    "\n",
    "print(\"Исходный текст : \" + documents[0])\n",
    "print(\"Ключевые слова:\", sorted_keywords)"
   ]
  }
 ],
 "metadata": {
  "kernelspec": {
   "display_name": "myvenv",
   "language": "python",
   "name": "python3"
  },
  "language_info": {
   "codemirror_mode": {
    "name": "ipython",
    "version": 3
   },
   "file_extension": ".py",
   "mimetype": "text/x-python",
   "name": "python",
   "nbconvert_exporter": "python",
   "pygments_lexer": "ipython3",
   "version": "3.11.6"
  }
 },
 "nbformat": 4,
 "nbformat_minor": 2
}
