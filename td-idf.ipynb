{
 "cells": [
  {
   "cell_type": "markdown",
   "metadata": {},
   "source": [
    "Загружаем документы"
   ]
  },
  {
   "cell_type": "code",
   "execution_count": null,
   "metadata": {},
   "outputs": [],
   "source": [
    "import texts_loader\n",
    "from sklearn.feature_extraction.text import TfidfVectorizer\n",
    "import pandas as pd\n",
    "\n",
    "pd.set_option('display.max_columns', None)  # Отображение всех столбцов\n",
    "pd.set_option('display.expand_frame_repr', False)  # Отображение всей таблицы без переноса строк\n",
    "\n",
    "documents = texts_loader.get_texts_from_dir(\"tf_idf_demonstration\")\n",
    "print(documents)"
   ]
  },
  {
   "cell_type": "markdown",
   "metadata": {},
   "source": [
    "Удаляем стоп-слова (предлоги, знаки препинания)"
   ]
  },
  {
   "cell_type": "code",
   "execution_count": null,
   "metadata": {},
   "outputs": [],
   "source": [
    "import nltk\n",
    "from nltk.corpus import stopwords\n",
    "from nltk.tokenize import word_tokenize\n",
    "import string\n",
    "\n",
    "# Загрузка стоп-слов и пунктуации\n",
    "nltk.download('stopwords')\n",
    "nltk.download('punkt')\n",
    "stop_words = set(stopwords.words('russian'))\n",
    "punctuation = set(string.punctuation)\n",
    "\n",
    "def preprocess_text(text):\n",
    "    words = word_tokenize(text.lower())  # Привести к нижнему регистру и токенизировать\n",
    "    filtered_words = [word for word in words if word not in stop_words and word not in punctuation]\n",
    "    return \" \".join(filtered_words)\n",
    "\n",
    "preprocessed_documents = [ preprocess_text(doc) for doc in documents ]\n",
    "print(preprocessed_documents)"
   ]
  },
  {
   "cell_type": "markdown",
   "metadata": {},
   "source": [
    "Выполняем лемматизацию текста"
   ]
  },
  {
   "cell_type": "code",
   "execution_count": null,
   "metadata": {},
   "outputs": [],
   "source": [
    "import spacy\n",
    "\n",
    "# Загрузка языковой модели spaCy\n",
    "nlp = spacy.load(\"ru_core_news_sm\")\n",
    "\n",
    "def preprocess_and_lemmatize(text):\n",
    "    doc = nlp(text.lower())  # Привести к нижнему регистру и лемматизировать\n",
    "    lemmatized_words = [token.lemma_ for token in doc if token.text not in punctuation and token.text not in stop_words]\n",
    "    return \" \".join(lemmatized_words)\n",
    "\n",
    "preprocessed_documents = [ preprocess_and_lemmatize(doc) for doc in preprocessed_documents ]\n",
    "print(preprocessed_documents)"
   ]
  },
  {
   "cell_type": "markdown",
   "metadata": {},
   "source": [
    "Создаем TF-IDF матрицу"
   ]
  },
  {
   "cell_type": "code",
   "execution_count": null,
   "metadata": {},
   "outputs": [],
   "source": [
    "from sklearn.preprocessing import normalize\n",
    "\n",
    "# Создание объекта TfidfVectorizer\n",
    "tfidf_vectorizer = TfidfVectorizer()\n",
    "\n",
    "# Применение TF-IDF к текстовым данным\n",
    "tfidf_matrix = tfidf_vectorizer.fit_transform(preprocessed_documents)\n",
    "# Нормализация матрицы TF-IDF по длине документа\n",
    "tfidf_matrix = normalize(tfidf_matrix, norm='l2', axis=1)\n",
    "\n",
    "# Получение списка слов и названий документов\n",
    "words = tfidf_vectorizer.get_feature_names_out()\n",
    "doc_names = ['Документ {}'.format(i+1) for i in range(len(preprocessed_documents))]\n",
    "\n",
    "# Создание DataFrame для вывода на экран\n",
    "tfidf_df = pd.DataFrame(tfidf_matrix.toarray(), columns=words, index=doc_names)\n",
    "\n",
    "# Вывод матрицы TF-IDF на экран\n",
    "print(tfidf_df)"
   ]
  },
  {
   "cell_type": "code",
   "execution_count": null,
   "metadata": {},
   "outputs": [],
   "source": [
    "tfidf_scores = tfidf_matrix.toarray()[0]\n",
    "\n",
    "# Сортировка слов по значениям TF-IDF\n",
    "threshold = 0.3\n",
    "sorted_keywords = [word for score, word in sorted(zip(tfidf_scores, words), reverse=True) if score > threshold]\n",
    "\n",
    "print(\"Исходный текст : \" + documents[0])\n",
    "print(\"Ключевые слова:\", sorted_keywords)"
   ]
  }
 ],
 "metadata": {
  "kernelspec": {
   "display_name": "myvenv",
   "language": "python",
   "name": "python3"
  },
  "language_info": {
   "codemirror_mode": {
    "name": "ipython",
    "version": 3
   },
   "file_extension": ".py",
   "mimetype": "text/x-python",
   "name": "python",
   "nbconvert_exporter": "python",
   "pygments_lexer": "ipython3",
   "version": "3.11.6"
  }
 },
 "nbformat": 4,
 "nbformat_minor": 2
}
