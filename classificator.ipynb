{
 "cells": [
  {
   "cell_type": "markdown",
   "metadata": {},
   "source": [
    "Вычитываем текстовые документы и создаем для них TF-IDF матрицу"
   ]
  },
  {
   "cell_type": "code",
   "execution_count": 2,
   "metadata": {},
   "outputs": [
    {
     "name": "stdout",
     "output_type": "stream",
     "text": [
      "                 nlp    аспект      дело  интересный  ключевой  машинный   область  обучение     очень  полезный   связать     также   учитель       это\n",
      "Документ 1  0.000000  0.000000  0.399169    0.399169  0.000000  0.235756  0.303578  0.235756  0.399169  0.399169  0.000000  0.000000  0.000000  0.399169\n",
      "Документ 2  0.483591  0.000000  0.000000    0.000000  0.000000  0.285617  0.367784  0.285617  0.000000  0.000000  0.483591  0.483591  0.000000  0.000000\n",
      "Документ 3  0.000000  0.459115  0.000000    0.000000  0.459115  0.271161  0.000000  0.542321  0.000000  0.000000  0.000000  0.000000  0.459115  0.000000\n"
     ]
    }
   ],
   "source": [
    "from sklearn.model_selection import train_test_split\n",
    "from sklearn.naive_bayes import MultinomialNB\n",
    "from sklearn.metrics import accuracy_score\n",
    "from texts_loader import get_texts_from_file\n",
    "import vectorization\n",
    "import pandas as pd\n",
    "\n",
    "pd.set_option('display.max_columns', None)  # Отображение всех столбцов\n",
    "pd.set_option('display.expand_frame_repr', False)  # Отображение всей таблицы без переноса строк\n",
    "\n",
    "# Пример данных для классификации\n",
    "categories = [\"технологии\", \"спорт\", \"политика\"]\n",
    "labels = [0, 1, 2]\n",
    "\n",
    "texts = get_texts_from_file()\n",
    "tfidf_matrix, words, doc_names = vectorization.vectorize(texts)\n",
    "\n",
    "# Вывод матрицы TF-IDF на экран\n",
    "tfidf_df = pd.DataFrame(tfidf_matrix.toarray(), columns=words, index=doc_names)\n",
    "print(tfidf_df)"
   ]
  }
 ],
 "metadata": {
  "kernelspec": {
   "display_name": "myvenv",
   "language": "python",
   "name": "python3"
  },
  "language_info": {
   "codemirror_mode": {
    "name": "ipython",
    "version": 3
   },
   "file_extension": ".py",
   "mimetype": "text/x-python",
   "name": "python",
   "nbconvert_exporter": "python",
   "pygments_lexer": "ipython3",
   "version": "3.11.6"
  }
 },
 "nbformat": 4,
 "nbformat_minor": 2
}
