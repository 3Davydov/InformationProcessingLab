{
 "cells": [
  {
   "cell_type": "markdown",
   "metadata": {},
   "source": [
    "Разбиваем произведения авторов на чанки"
   ]
  },
  {
   "cell_type": "code",
   "execution_count": 1,
   "metadata": {},
   "outputs": [
    {
     "name": "stdout",
     "output_type": "stream",
     "text": [
      "Файл \"Dubrovsky.txt\" успешно разбит на 137 кусков и сохранен в директории \"texts/Pushkin\".\n",
      "Файл \"Captain_daughter.txt\" успешно разбит на 193 кусков и сохранен в директории \"texts/Pushkin\".\n",
      "Файл \"Idiot.txt\" успешно разбит на 1304 кусков и сохранен в директории \"texts/Dostoevsky\".\n",
      "Файл \"Kubok_ognia.txt\" успешно разбит на 1000 кусков и сохранен в директории \"texts/Rowling\".\n"
     ]
    }
   ],
   "source": [
    "import texts_splitter\n",
    "\n",
    "chunk_size = 1000\n",
    "texts_splitter.create_dataset_for_author(\"authors/Pushkin\", \"texts/Pushkin\", chunk_size)\n",
    "texts_splitter.create_dataset_for_author(\"authors/Dostoevsky\", \"texts/Dostoevsky\", chunk_size)\n",
    "texts_splitter.create_dataset_for_author(\"authors/Rowling\", \"texts/Rowling\", chunk_size)"
   ]
  },
  {
   "cell_type": "markdown",
   "metadata": {},
   "source": [
    "Создаем датасет"
   ]
  },
  {
   "cell_type": "code",
   "execution_count": 2,
   "metadata": {},
   "outputs": [
    {
     "name": "stderr",
     "output_type": "stream",
     "text": [
      "[nltk_data] Downloading package stopwords to\n",
      "[nltk_data]     /home/danissimo/nltk_data...\n",
      "[nltk_data]   Package stopwords is already up-to-date!\n",
      "[nltk_data] Downloading package punkt to /home/danissimo/nltk_data...\n",
      "[nltk_data]   Package punkt is already up-to-date!\n"
     ]
    }
   ],
   "source": [
    "from texts_loader import get_texts_from_dir\n",
    "import random\n",
    "import vectorization\n",
    "from sklearn.preprocessing import LabelEncoder\n",
    "\n",
    "Pushkin_texts = get_texts_from_dir(\"texts/Pushkin\")\n",
    "Dostoevsky_texts = get_texts_from_dir(\"texts/Dostoevsky\")\n",
    "Rowling_texts = get_texts_from_dir(\"texts/Rowling\")\n",
    "\n",
    "all_chunks = []\n",
    "labels = []\n",
    "\n",
    "# Добавьте куски текстов и соответствующие метки для каждого автора\n",
    "all_chunks.extend(Pushkin_texts)\n",
    "labels.extend([\"Pushkin\"] * len(Pushkin_texts))\n",
    "\n",
    "all_chunks.extend(Dostoevsky_texts)\n",
    "labels.extend([\"Dostoevsky\"] * len(Dostoevsky_texts))\n",
    "\n",
    "all_chunks.extend(Rowling_texts)\n",
    "labels.extend([\"Rowling\"] * len(Rowling_texts))\n",
    "\n",
    "label_encoder = LabelEncoder()\n",
    "encoded_labels = label_encoder.fit_transform(labels)\n",
    "\n",
    "# Перемешайте куски текстов и соответствующие метки\n",
    "combined_data = list(zip(all_chunks, encoded_labels))\n",
    "random.shuffle(combined_data)\n",
    "\n",
    "# Разделите обратно на куски текстов и метки\n",
    "shuffled_chunks, shuffled_labels = zip(*combined_data)\n",
    "\n",
    "# Пример использования\n",
    "# for chunk, label in zip(shuffled_chunks, shuffled_labels):\n",
    "#     print(f\"Label: {label}, Chunk: {chunk}\")\n",
    "\n",
    "\n",
    "tfidf_matrix, words, doc_names = vectorization.vectorize(shuffled_chunks)\n"
   ]
  },
  {
   "cell_type": "markdown",
   "metadata": {},
   "source": [
    "Создаем обучающий и тестовый наборы данных"
   ]
  },
  {
   "cell_type": "code",
   "execution_count": 3,
   "metadata": {},
   "outputs": [
    {
     "name": "stdout",
     "output_type": "stream",
     "text": [
      "[2, 2, 2, 2, 2, 1, 1, 0, 0, 2, 1, 0, 0, 0, 2, 0, 0, 2, 0, 2, 0, 0, 0, 0, 0, 2, 0, 0, 0, 2, 2, 2, 0, 2, 0, 1, 0, 2, 0, 2, 0, 0, 0, 0, 2, 0, 2, 0, 2, 1, 0, 2, 0, 2, 2, 0, 0, 0, 0, 2, 0, 0, 0, 0, 2, 2, 0, 0, 0, 0, 0, 2, 0, 0, 2, 0, 0, 0, 2, 2, 2, 0, 0, 2, 1, 0, 0, 0, 1, 2, 2, 2, 0, 2, 0, 2, 0, 0, 2, 1, 1, 2, 2, 0, 2, 0, 0, 0, 0, 0, 2, 2, 0, 2, 0, 1, 0, 0, 1, 0, 0, 2, 2, 0, 0, 2, 0, 2, 2, 2, 0, 0, 1, 2, 1, 2, 0, 1, 0, 1, 0, 0, 2, 2, 2, 0, 0, 0, 2, 2, 2, 0, 0, 0, 1, 2, 0, 2, 1, 1, 2, 0, 0, 2, 0, 2, 2, 0, 1, 0, 0, 1, 0, 0, 0, 0, 0, 0, 0, 0, 0, 2, 0, 0, 2, 0, 0, 0, 0, 1, 2, 2, 2, 2, 0, 0, 2, 0, 0, 2, 0, 0, 0, 0, 2, 0, 0, 2, 0, 0, 0, 0, 2, 2, 2, 2, 1, 0, 2, 2, 2, 1, 0, 2, 0, 2, 0, 0, 2, 2, 0, 2, 0, 2, 2, 1, 0, 0, 0, 0, 1, 2, 1, 1, 2, 2, 0, 2, 1, 0, 0, 2, 2, 0, 2, 2, 2, 0, 0, 2, 1, 2, 1, 0, 2, 1, 0, 0, 0, 2, 0, 2, 0, 1, 1, 2, 0, 0, 2, 2, 2, 1, 2, 2, 2, 0, 2, 2, 0, 2, 2, 0, 1, 2, 0, 0, 0, 2, 2, 1, 2, 2, 0, 0, 2, 0, 2, 1, 2, 0, 2, 0, 1, 0, 0, 2, 2, 2, 0, 0, 0, 1, 0, 0, 0, 1, 2, 2, 2, 0, 0, 2, 1, 0, 0, 0, 0, 0, 2, 0, 0, 1, 2, 0, 1, 0, 0, 2, 0, 2, 1, 1, 2, 1, 0, 0, 2, 1, 0, 1, 0, 0, 0, 0, 2, 2, 1, 1, 0, 0, 1, 0, 2, 1, 0, 2, 2, 0, 2, 2, 2, 1, 0, 0, 1, 0, 2, 0, 2, 2, 2, 0, 0, 0, 2, 1, 0, 0, 2, 1, 1, 0, 0, 2, 0, 2, 0, 0, 2, 2, 0, 0, 0, 2, 2, 0, 0, 0, 0, 1, 0, 2, 0, 2, 2, 0, 0, 0, 1, 2, 0, 0, 2, 2, 0, 0, 2, 2, 0, 2, 2, 1, 0, 2, 0, 2, 1, 0, 2, 1, 1, 2, 0, 0, 0, 1, 2, 1, 0, 2, 2, 2, 2, 1, 0, 2, 1, 0, 0, 0, 0, 0, 2, 0, 2, 0, 1, 2, 0, 0, 0, 1, 0, 2, 0, 2, 0, 2, 2, 2, 1, 1, 0, 2, 2, 1, 2, 2, 0, 0, 2, 1, 1, 0, 0, 0, 2, 1, 2, 2, 2, 0, 2, 0, 0, 0, 2, 0, 2, 2, 2, 0, 2, 1, 2, 1, 1, 0, 2, 2, 2, 2, 0, 0, 2, 0, 2, 1, 0, 1, 0, 0, 1, 2, 2, 2, 1, 0, 0, 2, 0, 2, 0, 0, 0, 0, 0, 2, 2, 0, 0, 2, 2, 0, 2, 2, 2, 2, 0, 2, 2, 2, 1, 2, 2, 2, 1, 0, 2, 1, 2, 2, 0, 0, 0, 0, 2, 0, 1, 1, 1, 0, 2, 0, 1, 2, 2, 2, 0, 1, 2, 2, 2, 0, 0, 2, 2, 0, 0, 0, 0, 2, 0, 1, 0, 0, 2, 2, 0, 2, 0, 2, 0, 0, 1, 2, 0, 2, 2, 2, 0, 1, 2, 0, 1, 2, 2, 1, 0, 0, 2, 2, 2, 0, 0, 0, 2, 0, 2, 1, 2, 0, 0, 0, 2, 0, 0, 2, 0, 0, 2, 2, 2, 0, 2, 1, 2, 0, 0, 0, 2, 0, 1, 2, 1, 2, 0, 1, 0, 0, 0, 2, 0, 0, 1, 2, 0, 0, 0, 0, 0, 1, 0, 2, 2, 2, 0, 0, 2, 2, 2, 0, 2, 0, 0, 0, 2, 2, 0, 1, 2, 2, 0, 0, 0, 0, 2, 0, 0, 2, 0, 2, 0, 0, 0, 0, 0, 2, 0, 0, 0, 0, 2, 0, 0, 0, 0, 0, 0, 0, 2, 1, 2, 0, 0, 2, 2, 0, 1, 0, 0, 1, 0, 0, 2, 1, 0, 1, 2, 2, 0, 0, 1, 0, 2, 0, 0, 0, 0, 0, 0, 2, 0, 0, 2, 2, 0, 0, 2, 0, 0, 2, 0, 0, 2, 0, 0, 2, 1, 0, 2, 2, 2, 0, 0, 0, 0, 2, 2, 0, 2, 2, 0, 2, 2, 0, 0, 2, 0, 2, 2, 2, 0, 2, 1, 0, 2, 0, 0, 0, 0, 2, 0, 2, 1, 0, 2, 1, 0, 1, 0, 2, 2, 2, 2, 0, 2, 0, 2, 0, 2, 2, 2, 1, 0, 2, 2, 0, 2, 0, 0, 1, 0, 2, 1, 2, 0, 0, 0, 1, 0, 0, 2, 0, 2, 0, 0, 0, 2, 2, 2, 0, 2, 0, 0, 0, 0, 2, 0, 0, 2, 0, 2, 1, 0, 2, 0, 0, 2, 0, 0, 0, 0, 1, 2, 0, 0, 0, 0, 2, 0, 2, 2, 2, 2, 0, 2, 2, 0, 0, 1, 2, 0, 2, 2, 1, 0, 1, 2, 0, 0, 0, 2, 0, 0, 0, 0, 0, 2, 2, 2, 2, 2, 2, 2, 0, 0, 0, 2, 0, 0, 0, 0, 1, 2, 0, 1, 2, 0, 2, 1, 0, 0, 1, 2, 2, 0, 2, 2, 2, 0, 0, 2, 0, 2, 0, 0, 0, 2, 2, 2, 0, 0, 2, 2, 0, 0, 2, 0, 0, 2, 2, 0, 2, 0, 0, 2, 1, 0, 0, 0, 2, 2, 2, 1, 0, 0, 0, 0, 1, 0, 0, 2, 0, 2, 0, 2, 0, 2, 2, 2, 0, 0, 1, 0, 0, 0, 1, 0, 2, 0, 2, 0, 0, 1, 0, 2, 0, 0, 0, 2, 0, 1, 2, 1, 0, 0, 1, 2, 0, 0, 0, 0, 0, 1, 1, 0, 2, 2, 2, 0, 2, 2, 2, 0, 1, 0, 0, 0, 0, 2, 2, 0, 0, 0, 0, 0, 2, 2, 2, 2, 2, 0, 0, 2, 0, 2, 0, 0, 0, 0, 2, 2, 2, 1, 2, 0, 2, 0, 2, 2, 0, 2, 0, 2, 0, 0, 0, 0, 2, 2, 1, 0, 0, 0, 0, 0, 0, 0, 1, 0, 1, 0, 2, 1, 0, 2, 0, 2, 1, 0, 0, 0, 2, 0, 0, 2, 2, 0, 0, 0, 0, 2, 0, 0, 0, 2, 0, 2, 0, 2, 2, 0, 2, 0, 2, 0, 2, 0, 2, 0, 2, 0, 0, 2, 1, 2, 0, 2, 0, 1, 0, 2, 2, 0, 2, 2, 0, 0, 1, 1, 0, 0, 2, 0, 2, 0, 0, 0, 2, 2, 0, 2, 0, 2, 0, 0, 2, 2, 0, 2, 0, 0, 2, 1, 2, 0, 1, 0, 0, 2, 2, 0, 0, 1, 0, 2, 0, 2, 0, 1, 2, 2, 2, 0, 2, 2, 2, 2, 2, 2, 1, 1, 0, 0, 2, 0, 0, 2, 0, 2, 0, 0, 0, 0, 0, 2, 2, 2, 0, 2, 2, 1, 0, 0, 2, 1, 1, 2, 0, 2, 0, 2, 0, 2, 0, 0, 0, 2, 1, 2, 0, 0, 2, 0, 0, 0, 2, 0, 1, 2, 2, 2, 0, 1, 0, 2, 0, 2, 0, 1, 2, 0, 0, 1, 0, 0, 2, 0, 2, 1, 2, 0, 2, 1, 0, 2, 0, 0, 0, 0, 2, 0, 2, 0, 2, 2, 1, 1, 2, 0, 0, 2, 2, 0, 0, 1, 0, 0, 0, 0, 0, 1, 0, 1, 2, 2, 2, 2, 0, 0, 1, 0, 0, 2, 0, 0, 2, 0, 0, 0, 2, 2, 2, 0, 0, 0, 0, 0, 0, 2, 0, 2, 0, 1, 0, 0, 2, 0, 0, 2, 0, 0, 0, 2, 0, 0, 0, 0, 1, 0, 0, 0, 2, 2, 0, 2, 2, 0, 2, 2, 2, 0, 0, 0, 0, 2, 0, 0, 2, 1, 0, 2, 0, 0, 2, 2, 0, 0, 2, 2, 0, 0, 2, 2, 0, 1, 2, 2, 2, 2, 1, 2, 1, 0, 0, 0, 0, 2, 0, 0, 2, 2, 0, 2, 2, 2, 1, 0, 1, 2, 2, 0, 2, 1, 2, 0, 0, 0, 2, 0, 0, 2, 1, 0, 2, 0, 0, 2, 1, 0, 2, 0, 2, 0, 2, 2, 1, 1, 0, 0, 1, 0, 1, 0, 0, 2, 2, 0, 1, 0, 1, 2, 0, 1, 2, 0, 2, 0, 0, 0, 2, 0, 2, 0, 0, 2, 1, 0, 0, 0, 2, 1, 2, 0, 0, 2, 2, 2, 0, 0, 2, 2, 0, 0, 0, 0, 0, 0, 2, 2, 0, 2, 0, 2, 0, 1, 0, 2, 2, 0, 2, 2, 2, 1, 0, 2, 0, 1, 1, 0, 0, 0, 2, 2, 0, 2, 0, 0, 2, 0, 0, 2, 2, 1, 2, 0, 1, 0, 2, 0, 0, 2, 2, 2, 1, 0, 2, 1, 0, 2, 0, 2, 0, 0, 0, 0, 1, 1, 0, 2, 1, 0, 1, 2, 0, 2, 0, 2, 2, 0, 2, 2, 1, 0, 0, 2, 0, 0, 2, 0, 0, 1, 0, 2, 0, 2, 2, 0, 2, 2, 2, 2, 2, 2, 0, 2, 2, 2, 0, 0, 2, 0, 2, 2, 0, 0, 0, 2, 0, 0, 0, 0, 0, 0, 2, 0, 0, 0, 2, 0, 1, 0, 2, 2, 0, 2, 0, 1, 0, 0, 0, 2, 0, 0, 0, 0, 2, 2, 2, 1, 0, 0, 0, 1, 0, 2, 0, 2, 2, 2, 1, 0, 0, 2, 0, 2, 1, 0, 0, 0, 0, 0, 0, 0, 0, 0, 0, 0, 1, 0, 0, 2, 0, 0, 0, 2, 2, 1, 0, 0, 2, 1, 2, 0, 0, 2, 2, 2, 1, 2, 0, 2, 2, 0, 0, 0, 2, 0, 0, 0, 0, 2, 1, 2, 2, 0, 0, 2, 0, 2, 0, 0, 1, 0, 0, 0, 0, 0, 1, 0, 0, 1, 0, 0, 2, 2, 2, 1, 0, 0, 0, 0, 2, 0, 2, 0, 0, 1, 0, 0, 2, 0, 2, 2, 2, 0, 0, 2, 0, 2, 1, 2, 0, 2, 2, 0, 2, 0, 0, 2, 2, 2, 2, 0, 0, 2, 2, 0, 2, 0, 0, 2, 0, 0, 2, 2, 2, 1, 0, 0, 0, 2, 1, 2, 0, 2, 2, 2, 0, 2, 1, 2, 0, 1, 0, 1, 2, 2, 0, 2, 2, 0, 2, 2, 1, 2, 1, 0, 0, 2, 1, 1, 1, 0, 0, 2, 2, 2, 2, 2, 0, 2, 2, 0, 0, 0, 0, 0, 0, 2, 2, 0, 2, 0, 0, 0, 2, 0, 0, 2, 2, 0, 2, 1, 0, 1, 0, 1, 1, 0, 1, 0, 0, 0, 0, 2, 0, 0, 2, 1, 2, 0, 2, 0, 1, 1, 0, 2, 2, 0, 2, 0, 2, 2, 0, 2, 1, 0, 2, 0, 2, 0, 0, 0, 0, 2, 0, 0, 0, 2, 0, 0, 2, 2, 1, 2, 0, 0, 0, 0, 2, 2, 2, 2, 0, 0, 2, 1, 0, 0, 2, 1, 0, 2, 0, 0, 2, 0, 0, 2, 0, 1, 2, 0, 0, 2, 1, 0, 0, 0, 0, 0, 0, 1, 0, 0, 2, 2, 0, 2, 0, 0, 2, 1, 2, 0, 0, 0, 0, 0, 0, 2, 2, 0, 2, 2, 0, 2, 0, 0, 2, 0, 1, 2, 2, 2, 1, 1, 2, 0, 0, 2, 2, 0, 0, 1, 0, 0, 2, 1, 0, 2, 2, 0, 0, 0, 1, 0, 2, 0, 0, 0, 1, 1, 0, 0, 0, 2, 0, 2, 0, 2, 2, 2, 0, 0, 1, 0, 0, 0, 0, 0, 1, 0, 0, 2, 2, 0, 0, 2, 0, 0, 2, 2, 0, 0, 1, 2, 0, 2, 0, 0, 0, 0, 0, 0, 0, 2, 2, 2, 2, 2, 2, 0, 0, 1, 0, 0, 2, 1, 0, 0, 0, 0, 2, 1, 0, 2, 0, 0, 0, 2, 0, 0, 0, 0, 0, 1, 2, 2, 2, 0, 0, 0, 1, 0, 2, 0, 0, 0, 2, 2, 2, 2, 0, 0, 0, 2, 0, 2, 0, 0, 0, 2, 0, 1]\n"
     ]
    }
   ],
   "source": [
    "from sklearn.model_selection import train_test_split\n",
    "import torch\n",
    "import torch.nn as nn\n",
    "import torch.optim as optim\n",
    "\n",
    "X_train, X_test, y_train, y_test = train_test_split(tfidf_matrix, shuffled_labels, test_size=0.2, random_state=0)\n",
    "# Преобразование данных в тензоры PyTorch\n",
    "X_train_tensor = torch.tensor(X_train.toarray(), dtype=torch.float32)\n",
    "X_test_tensor = torch.tensor(X_test.toarray(), dtype=torch.float32)\n",
    "y_train_tensor = torch.tensor(y_train, dtype=torch.long)\n",
    "y_test_tensor = torch.tensor(y_test, dtype=torch.long)"
   ]
  },
  {
   "cell_type": "markdown",
   "metadata": {},
   "source": [
    "Создаем нейронную сеть"
   ]
  },
  {
   "cell_type": "code",
   "execution_count": 4,
   "metadata": {},
   "outputs": [],
   "source": [
    "# Создание класса модели\n",
    "class TextClassifier(nn.Module):\n",
    "    def __init__(self, input_size, hidden_size, num_classes):\n",
    "        super(TextClassifier, self).__init__()\n",
    "        self.fc1 = nn.Linear(input_size, hidden_size)\n",
    "        self.relu = nn.ReLU()\n",
    "        self.fc2 = nn.Linear(hidden_size, num_classes)\n",
    "\n",
    "    def forward(self, x):\n",
    "        out = self.fc1(x)\n",
    "        out = self.relu(out)\n",
    "        out = self.fc2(out)\n",
    "        return out\n",
    "\n",
    "# Определение параметров модели\n",
    "input_size = X_train_tensor.shape[1]\n",
    "hidden_size = 100\n",
    "num_classes = len(set(labels))\n",
    "\n",
    "# Инициализация модели, функции потерь и оптимизатора\n",
    "model = TextClassifier(input_size, hidden_size, num_classes)\n",
    "criterion = nn.CrossEntropyLoss()\n",
    "optimizer = optim.Adam(model.parameters(), lr=0.001)"
   ]
  },
  {
   "cell_type": "markdown",
   "metadata": {},
   "source": [
    "Обучаем нейронную сеть"
   ]
  },
  {
   "cell_type": "code",
   "execution_count": 5,
   "metadata": {},
   "outputs": [
    {
     "name": "stdout",
     "output_type": "stream",
     "text": [
      "Epoch [100/100], Loss: 0.0231\n",
      "Accuracy of the network on the test texts: 98.67%\n"
     ]
    }
   ],
   "source": [
    "# Обучение модели\n",
    "num_epochs = 100\n",
    "for epoch in range(num_epochs):\n",
    "    # Forward pass\n",
    "    outputs = model(X_train_tensor)\n",
    "    loss = criterion(outputs, y_train_tensor)\n",
    "    \n",
    "    # Backward pass and optimization\n",
    "    optimizer.zero_grad()\n",
    "    loss.backward()\n",
    "    optimizer.step()\n",
    "    \n",
    "    # Вывод промежуточных результатов\n",
    "    if (epoch+1) % 100 == 0:\n",
    "        print(f'Epoch [{epoch+1}/{num_epochs}], Loss: {loss.item():.4f}')\n",
    "\n",
    "# Оценка модели на тестовом наборе\n",
    "with torch.no_grad():\n",
    "    outputs = model(X_test_tensor)\n",
    "    _, predicted = torch.max(outputs.data, 1)\n",
    "    accuracy = (predicted == y_test_tensor).sum().item() / y_test_tensor.size(0)\n",
    "    print(f'Accuracy of the network on the test texts: {accuracy:.2%}')"
   ]
  }
 ],
 "metadata": {
  "kernelspec": {
   "display_name": "myvenv",
   "language": "python",
   "name": "python3"
  },
  "language_info": {
   "codemirror_mode": {
    "name": "ipython",
    "version": 3
   },
   "file_extension": ".py",
   "mimetype": "text/x-python",
   "name": "python",
   "nbconvert_exporter": "python",
   "pygments_lexer": "ipython3",
   "version": "3.11.6"
  }
 },
 "nbformat": 4,
 "nbformat_minor": 2
}
